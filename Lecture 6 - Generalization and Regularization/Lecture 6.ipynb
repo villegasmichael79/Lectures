{
 "cells": [
  {
   "cell_type": "markdown",
   "metadata": {},
   "source": [
    "# Lecture 6 - Generalization and Regularization"
   ]
  },
  {
   "cell_type": "markdown",
   "metadata": {},
   "source": [
    "## Recap"
   ]
  },
  {
   "cell_type": "markdown",
   "metadata": {},
   "source": [
    "Last class, we introduced experimental design. This is a crucial step of an ML model. It will affect all the subsequent choices we will make in the ML flowchart design.\n",
    "\n",
    "As a quick recap:\n",
    "\n",
    "1. **Experimental design** provides us with a scientific (unbiased) experimentation that will allow us to extract the most information from the data and draw conclusions from it.\n",
    "\n",
    "2. Given a data set, we should always **partition the data set** into two sets: training set and test set; approximately 80\\% and 20\\% respectively.\n",
    "    * The training set will *only* be used to train the model (designing features, parameters of the model, selecting a model, etc.)\n",
    "    * The test set will *only* be used to assess the performance of the final trained model. This set should not be used in any step of training.\n",
    "\n",
    "3. We should further split the training data into training and validation. We do this, because, in training, for every decision we make in the supervised learning algorithm flowchart, we want to evaluate how **generalizable** the model is. And so, for this, we use the validation set.\n",
    "    * We will see today, exactly how to construct training and validations sets.\n",
    "    \n",
    "4. The **No Free Lunch** Theorem states that: for any learning algorithm, there is a dataset where it is very accurate and another dataset where it is very poor. When we say that a learning algorithm is good, we only quantify how well its inductive bias matches the properties of the data.\n",
    "\n",
    "5. For every experiment, we have *uncontrollable* and *controllable* parameters. Different strategies of experimentation provides with scientific experimentation principles on how to perform the experiment:\n",
    "    * We should **randomize** the selection of training and validation sets, so to minimize any bias and the results are independent.\n",
    "    * We should **replicate** our experiment: the experiment should be run a number of times to average over the effect of uncontrollable factors and induced randomization.\n",
    "    * We should **block** the *same* sets that were used for training and testing stages in order to fairly compare the performance between two models.\n",
    "    \n",
    "6. The set **guidelines for ML experiments** are summarized as follows:\n",
    "    1. Understand the goal of the study\n",
    "    2. Determine your evaluation metric(s)\n",
    "    3. Determine what factors to vary and how to vary them\n",
    "    4. Design your experiment (and get an estimate of how long it will take using a couple trial runs)\n",
    "    5. Perform the experiment\n",
    "    6. Analyze the result by performing statistical analysis\n",
    "    7. Draw your conclusions based on your design and result"
   ]
  },
  {
   "cell_type": "code",
   "execution_count": 1,
   "metadata": {},
   "outputs": [],
   "source": [
    "import numpy as np\n",
    "import numpy.random as npr\n",
    "\n",
    "import matplotlib.pyplot as plt\n",
    "%matplotlib inline\n",
    "plt.style.use('seaborn-colorblind')\n",
    "\n",
    "from IPython.display import Image #module used to embed images,i.e. when you print PDF using Print Preview, images are included"
   ]
  },
  {
   "cell_type": "code",
   "execution_count": null,
   "metadata": {},
   "outputs": [],
   "source": [
    "def PolynomialRegression(x,t,M):\n",
    "    X = np.array([x**m for m in range(M+1)]).T\n",
    "    w = np.linalg.inv(X.T@X)@X.T@t\n",
    "    y = X@w\n",
    "    error = t-y\n",
    "    return w, y, error\n",
    "\n",
    "def PolynomialRegression_test(x,M,w):\n",
    "    X = np.array([x**m for m in range(M+1)]).T \n",
    "    y = X@w\n",
    "    return y\n",
    "\n",
    "def NoisySinusoidalData(N, a, b, gVar):\n",
    "    x = np.linspace(a,b,N)\n",
    "    noise = npr.normal(0,gVar,N) \n",
    "    t = np.sin(2*np.pi*x) + noise\n",
    "    return x, t"
   ]
  },
  {
   "cell_type": "code",
   "execution_count": null,
   "metadata": {},
   "outputs": [],
   "source": [
    "# Generate input samples and desired value\n",
    "\n",
    "N = 40 \n",
    "Ntest = 10 \n",
    "a, b = [0,1] \n",
    "gVar_train = 0.5 \n",
    "gVar_test = 1 \n",
    "x1, t1 = NoisySinusoidalData(N, a, b, gVar_train) \n",
    "x2, t2 = NoisySinusoidalData(N, a, b, 0)\n",
    "x3, t3 = NoisySinusoidalData(Ntest, a, b, gVar_test)"
   ]
  },
  {
   "cell_type": "code",
   "execution_count": null,
   "metadata": {},
   "outputs": [],
   "source": [
    "# Model Order\n",
    "M = 10\n",
    "\n",
    "# Find the parameters that fit the noisy sinusoidal\n",
    "w, y, error = PolynomialRegression(x1,t1,M) \n",
    "\n",
    "plt.plot(x1,t1,'bo', label='Training Data')\n",
    "plt.plot(x1,y,'r', label = 'Estimated Polynomial')\n",
    "plt.plot(x2,t2,'g', label = 'True Function')\n",
    "plt.legend()\n",
    "plt.xlabel(\"Data Samples, x\")\n",
    "plt.ylabel(\"Desired Values, t\");"
   ]
  },
  {
   "cell_type": "markdown",
   "metadata": {},
   "source": [
    "How do the weights look like?"
   ]
  },
  {
   "cell_type": "code",
   "execution_count": null,
   "metadata": {},
   "outputs": [],
   "source": []
  },
  {
   "cell_type": "markdown",
   "metadata": {},
   "source": [
    "As the model order increases, some of the weight values become very large! This is a good indication that we may be *memorizing* the training data."
   ]
  },
  {
   "cell_type": "code",
   "execution_count": null,
   "metadata": {},
   "outputs": [],
   "source": [
    "y_test = PolynomialRegression_test(x3, M, w)\n",
    "\n",
    "plt.figure(figsize=(10,8))\n",
    "plt.plot(x1,y,'r', label = 'Estimated Polynomial',linewidth=5)\n",
    "plt.plot(x2,t2,'g', label = 'True Function',linewidth=5)\n",
    "# plt.plot(x1,t1,'bo', label='Training Data')\n",
    "plt.plot(x3,t3,'ro', label = 'Test Data')\n",
    "plt.plot(x3,y_test,'-c*', label = 'Test Predictions', linewidth=5)\n",
    "plt.legend()\n",
    "plt.xlabel('Data Samples, x', fontsize=15)\n",
    "plt.ylabel('Desired Values, t', fontsize=15);"
   ]
  },
  {
   "cell_type": "markdown",
   "metadata": {},
   "source": [
    "In fact, we try and estimate the value for $x$ *far off* from the interval $[0,1]$, the model will not provide a good estimate:"
   ]
  },
  {
   "cell_type": "code",
   "execution_count": null,
   "metadata": {},
   "outputs": [],
   "source": [
    "x4, t4 = NoisySinusoidalData(10, 0.5, 1.5, 0.1)\n",
    "x2, t2 = NoisySinusoidalData(N, 0, 1.5, 0)\n",
    "\n",
    "plt.plot(x1, t1, 'bo', label = 'Training Data')\n",
    "plt.plot(x2, t2, 'g', label = 'True Sinusoidal')\n",
    "plt.plot(x4, t4, 'ro', label = 'Test Data')\n",
    "plt.legend()\n",
    "plt.xlabel('Data Samples, x')\n",
    "plt.ylabel('Desired Values, t');"
   ]
  },
  {
   "cell_type": "code",
   "execution_count": null,
   "metadata": {},
   "outputs": [],
   "source": [
    "M = 4\n",
    "\n",
    "w, y, error = PolynomialRegression(x1,t1,M)\n",
    "y_test = PolynomialRegression_test(x4, M, w)\n",
    "\n",
    "plt.plot(x1,t1,'bo', label='Training Data')\n",
    "plt.plot(x4, t4, 'ro', label = 'Test Data')\n",
    "plt.plot(x1,y,'r', label = 'Estimated Polynomial')\n",
    "plt.plot(x4,y_test,'-c*', label = 'Test Predictions', linewidth=5)\n",
    "plt.plot(x2,t2,'g', label = 'True Function')\n",
    "plt.legend()\n",
    "plt.xlabel('Data Samples, x')\n",
    "plt.ylabel('Desired Values, t');"
   ]
  },
  {
   "cell_type": "markdown",
   "metadata": {},
   "source": [
    "In Machine Learning, we want our supervised learning model to be able to *generalize* knowledge acquired from the training stage to new unknown data. So we don't want to train the model such that it *memorizes* the training samples, nor we want to make the model so simple that is simply doesn't work. These two situations are known as **overfitting** and **underfitting** respectively."
   ]
  },
  {
   "cell_type": "markdown",
   "metadata": {},
   "source": [
    "## Overfitting & Underfitting\n",
    "\n",
    "After selecting our *linear model*, the only parameter we can *control* is the *model order* $M$.\n",
    "\n",
    "* As $M$ increases, there are more parameters (more elements in the vector $\\mathbf{w}$) to learn and, so, the model becomes more complex.\n",
    "\n",
    "* The order $M$ regulates the model *complexity*.\n",
    "    * In a Polynomial regresssion it also controls the richness of the feature space. "
   ]
  },
  {
   "cell_type": "markdown",
   "metadata": {},
   "source": [
    "As a model that is *complex*, it is more likely to *overfit* or *overtrain*.\n",
    "* This essentially means it may \"memorize\" the input training data,\n",
    "* Including all of the training data's noise!"
   ]
  },
  {
   "cell_type": "markdown",
   "metadata": {},
   "source": [
    "<div class=\"alert alert-info\">\n",
    "    <b>Overfitting</b> \n",
    "\n",
    "In model fitting, a model is said to have **overfit** to the training data, if it is *not* able to *generalize* to new and unknown data. We can observe this effect as the training error is small but the error in the test data is very large.\n",
    "\n",
    "In other words, overfitting means that the *true* underlying model of the data is not estimated/learned properly, instead the model returned a poor representation that memorized meaningless noise in the data.\n",
    "</div>"
   ]
  },
  {
   "cell_type": "markdown",
   "metadata": {},
   "source": [
    "<div class=\"alert alert-info\">\n",
    "    <b>Underfitting</b> \n",
    "\n",
    "In model fitting, a model is said to have **underfit** if the error in both in training and test data sets are still decreasing. \n",
    "\n",
    "An underfit model is not complex enough to model all the characteristics in the data.\n",
    "</div>"
   ]
  },
  {
   "cell_type": "code",
   "execution_count": 2,
   "metadata": {},
   "outputs": [
    {
     "data": {
      "image/png": "[encoded data removed]",
      "text/plain": [
       "<IPython.core.display.Image object>"
      ]
     },
     "execution_count": 2,
     "metadata": {
      "image/png": {
       "width": 1000
      }
     },
     "output_type": "execute_result"
    }
   ],
   "source": [
    "Image('figures/fits.png',width=1000)"
   ]
  },
  {
   "cell_type": "markdown",
   "metadata": {},
   "source": [
    "## How to avoid overfitting?\n",
    "\n",
    "Suppose you have $N$ data points and you are trying to estimate $M$ coefficients. In other words, you are solving a set of $M$ equations with $N$ variables. \n",
    "\n",
    "**1. What happens when we have more unknowns than known variables, i.e., $M > N$?** \n",
    "\n",
    "In other words, what happens when the data matrix, $\\mathbf{X}^T\\mathbf{X}$, is **not** full rank?\n",
    "\n",
    "* Review *span* and *rank*: [\"Inverse matrices, column space and null space\", YouTube 3Blue1Brown video](https://www.youtube.com/watch?v=uQhTuRlWMxw&list=PLZHQObOWTQDPD3MizzM2xVFitgF8hE_ab&index=7)\n",
    "\n",
    "**2. How can you avoid overfitting?**\n",
    "\n",
    "* **More data**: As you have more and more data, it becomes more and more difficult to \"memorize\" the data and its noise. Often, more data translates to the ability to use a more complex model and avoid overfitting. Adding more data, also allows the data matrix, $\\mathbf{X}^T\\mathbf{X}$, to *explain* the entire $M$-dimensional space and prevent it from becoming *singular*.\n",
    "    * However, generally, you need exponentially more data with increases to model complexity.  So, there is a limit to how much this helps. If you have a very complex model, you need a huge training data set. \n",
    "    * (Note: A matrix is said to be *singular* if its determinant is equal to zero, this means it is **not** invertible.)\n",
    "* **Cross-validation**: tests the model's ability to predict new data that was not used in estimating the model, in order to flag problems like *overfitting* or *selection bias* and to give an insight on how the model will generalize to an independent dataset (i.e., an unknown dataset).\n",
    "* **Regularization**: add a penalty term to the error function to discourage learning a more complex model by forcing the model parameters to be small."
   ]
  },
  {
   "cell_type": "markdown",
   "metadata": {},
   "source": [
    "## Cross-Validation"
   ]
  },
  {
   "cell_type": "markdown",
   "metadata": {},
   "source": [
    "<div class=\"alert alert-info\">\n",
    "    <b>$k$-fold Cross-Validation</b> \n",
    "\n",
    "The goal of **cross-validation** is to test the model's ability to predict new data that was not used in estimating the model, in order to flag problems like *overfitting* or *selection bias* and to give an insight on how the model will generalize to an independent dataset (i.e., an unknown dataset).\n",
    "\n",
    "The technique of **$k$-fold cross-validation**, illustrated below for the case of $k = 4$, involves taking the available data and partitioning it into $k$ groups (in the simplest case these are of equal size). Then $k-1$ of the groups are used to train a set of models that are then evaluated on the remaining group. This procedure is then repeated for all $k$ possible choices for the held-out group, indicated in the picture below by the red blocks, and the performance scores from the S runs are then averaged.\n",
    "</div>"
   ]
  },
  {
   "cell_type": "code",
   "execution_count": 3,
   "metadata": {},
   "outputs": [
    {
     "data": {
      "image/png": "[encoded data removed]",
      "text/plain": [
       "<IPython.core.display.Image object>"
      ]
     },
     "execution_count": 3,
     "metadata": {
      "image/png": {
       "width": 400
      }
     },
     "output_type": "execute_result"
    }
   ],
   "source": [
    "Image('figures/Kfold CV.png',width=400)"
   ]
  },
  {
   "cell_type": "markdown",
   "metadata": {},
   "source": [
    "## Regularization"
   ]
  },
  {
   "cell_type": "markdown",
   "metadata": {},
   "source": [
    "<div class=\"alert alert-info\">\n",
    "    <b>Regularization</b> \n",
    "\n",
    "**Regularization** contrains/*regularizes* or shrinks the parameter coefficients such that they cannot take a large value. Regularization of the model parameters discourages learning a more complex, so to avoid the risk of overfitting.\n",
    "\n",
    "$$J_W(\\mathbf{w}) = \\frac{1}{2}\\mathbf{w}^T\\mathbf{w} = \\left\\Vert\\mathbf{w}\\right\\Vert_2^2$$\n",
    "\n",
    "where\n",
    "\n",
    "$$J(\\mathbf{w}) = J_D(\\mathbf{w}) + \\lambda J_W(\\mathbf{w}) = \\frac{1}{2} \\left\\Vert \\mathbf{t} - \\mathbf{X}\\mathbf{w} \\right\\Vert^2_2 + \\lambda\\frac{1}{2}\\left\\Vert\\mathbf{w}\\right\\Vert_2^2$$\n",
    "\n",
    "where $\\lambda$ is the regularization coefficient that controls the relative importance of the data-dependent error $J_D(\\mathbf{w})$ and the regularization term $J_W(\\mathbf{w})$.\n",
    "</div>"
   ]
  },
  {
   "cell_type": "markdown",
   "metadata": {},
   "source": [
    "* This particular choice of regularizer is known in the machine learning literature as **weight decay** or **ridge** because in sequential learning algorithms, it encourages weight values to decay towards zero, unless supported by the data.\n",
    "\n",
    "* It has the advantage that the error function remains a quadratic function of $\\mathbf{w}$, and so its exact minimizer can be found in closed form.\n",
    "\n",
    "* A more general regularizer is sometimes used, for which the regularized error takes the form:\n",
    "\n",
    "$$J(\\mathbf{w}) = \\frac{1}{2} \\left\\Vert \\mathbf{t} - \\mathbf{X}\\mathbf{w} \\right\\Vert^2_2 + \\lambda\\frac{1}{2}\\left|\\mathbf{w}\\right|^q$$\n",
    "\n",
    "where $q=2$ corresponds to the quadratic regularizer. \n",
    "\n",
    "* The case of $q = 1$ is known as the **lasso** regularizer. It has the property that if $\\lambda$ is sufficiently large, some of the coefficients $w_j$ are driven to zero, leading to a *sparse* model in which the corresponding basis functions play no role."
   ]
  },
  {
   "cell_type": "code",
   "execution_count": null,
   "metadata": {},
   "outputs": [],
   "source": [
    "xrange = np.linspace(-2,2,1000)\n",
    "\n",
    "plt.plot(xrange,xrange**2, label = 'Ridge Regressor')\n",
    "plt.plot(xrange,np.abs(xrange), label = 'Lasso Regressor')\n",
    "plt.legend();"
   ]
  },
  {
   "cell_type": "markdown",
   "metadata": {},
   "source": [
    "**Observations:**\n",
    "\n",
    "* Ridge regularizer:\n",
    "    * prefers to weight parameter elements to be non-zero\n",
    "    * is highly affected by outliers\n",
    "\n",
    "* Lasso regularizer:\n",
    "    * promotes sparsity\n",
    "    * it is not as affected by outliers"
   ]
  },
  {
   "cell_type": "markdown",
   "metadata": {},
   "source": [
    "<div class=\"alert alert-info\">\n",
    "    <b>Regularized Least Squares</b> \n",
    "\n",
    "We fit the linear regression model such that the *regularized* objective function $J(\\mathbf{w})$ is minimized:\n",
    "\n",
    "$$\\arg_{\\mathbf{w}}\\min J(\\mathbf{w})$$\n",
    "    \n",
    "where   \n",
    "    \n",
    "\\begin{align} \n",
    "J(\\mathbf{w}) &= J_D(\\mathbf{w}) + \\lambda J_W(\\mathbf{w}) \\\\\n",
    "&= \\frac{1}{N} \\left\\Vert \\mathbf{t} - \\mathbf{X}\\mathbf{w} \\right\\Vert^2_2 + \\lambda\\left\\Vert\\mathbf{w}\\right\\Vert_2^2\n",
    "\\end{align}\n",
    "\n",
    "This is often referred to as the **ridge regression**. The optimal solution $\\mathbf{w}^*$ is:\n",
    "\n",
    "$$\\mathbf{w}^* = \\left(\\mathbf{X}^T\\mathbf{X} + \\lambda\\mathbf{I}\\right)^{-1}\\mathbf{X}^T\\mathbf{t} $$\n",
    "\n",
    "where $\\mathbf{I}$ is an identity matrix of size $(M+1)\\times (M+1)$.\n",
    "</div>"
   ]
  },
  {
   "cell_type": "markdown",
   "metadata": {},
   "source": [
    "* We are **diagonally loading** the matrix $\\mathbf{X}^T\\mathbf{X}$ with the regularizer term $\\lambda$.\n",
    "* This is \"filling\" the feature space such that the matrix $\\mathbf{X}^T\\mathbf{X}$ becomes full rank.\n",
    "* What happens when $\\lambda \\rightarrow \\infty$?"
   ]
  },
  {
   "cell_type": "markdown",
   "metadata": {},
   "source": [
    "* In code, how would you change the function ```PolynomialRegression``` created above to include the regularization term?"
   ]
  },
  {
   "cell_type": "code",
   "execution_count": null,
   "metadata": {},
   "outputs": [],
   "source": []
  },
  {
   "cell_type": "code",
   "execution_count": null,
   "metadata": {},
   "outputs": [],
   "source": [
    "N = 40\n",
    "Ntest = 10 \n",
    "a, b = [0,1] \n",
    "gVar_train = 0.5 \n",
    "gVar_test = 1 \n",
    "x1, t1 = NoisySinusoidalData(N, a, b, gVar_train) \n",
    "x2, t2 = NoisySinusoidalData(N, a, b, 0)\n",
    "x3, t3 = NoisySinusoidalData(Ntest, a, b, gVar_test)"
   ]
  },
  {
   "cell_type": "code",
   "execution_count": null,
   "metadata": {},
   "outputs": [],
   "source": [
    "M = 10\n",
    "lam = 0.000001\n",
    "\n",
    "_, y, _ = PolynomialRegression(x1,t1,M) \n",
    "_, yreg, _ = PolynomialRegression_reg(x1,t1,M,lam) \n",
    "\n",
    "fig=plt.figure(figsize=(10,8))\n",
    "plt.plot(x1,t1,'bo', label='Training Data')\n",
    "plt.plot(x1,y,'r',linewidth=5, label = 'Estimated Polynomial')\n",
    "plt.plot(x1,yreg,'c',linewidth=5, label = 'Estimated Polynomial w/ Reg.')\n",
    "plt.plot(x2,t2,'g',linewidth=5, label = 'True Function')\n",
    "plt.legend(fontsize=15)\n",
    "plt.xlabel('Data Samples, x', fontsize=20)\n",
    "plt.ylabel('Desired Values, t', fontsize=20);"
   ]
  },
  {
   "cell_type": "markdown",
   "metadata": {},
   "source": [
    "* What are the parameters we can control now? <!--Model order $M$ and regularizer weight $\\lambda$ -->"
   ]
  },
  {
   "cell_type": "markdown",
   "metadata": {},
   "source": [
    "**<font color=red>Important:</font> In practice, when computing $(\\mathbf{X}^T\\mathbf{X})^{-1}$, if you receive an *error: matrix is singular*, what do you do?**"
   ]
  },
  {
   "cell_type": "markdown",
   "metadata": {},
   "source": [
    "## Basis Functions\n",
    "\n",
    "So far, we have assumed that we have form a **feature matrix** $\\mathbf{X}$ of dimensions $N \\times (M+1)$, where $N$ is the number of samples and $M$ the number of coefficients.\n",
    "\n",
    "* In Polynomial Regression, we constructed this matrix with a polynomial representation of each data sample:\n",
    "\n",
    "$$\\phi(x_i) = [x_i^0, x_i^1, \\cdots, x_i^M]^T$$\n",
    "\n",
    "In practice, we can use other types of features. But, from a software implementation point-of-view, regardless of the features used, we always want to have them in a tidy feature matrix $\\mathbf{X}$:\n",
    "\n",
    "$$\\mathbf{X} =\\left[\\begin{array}{c} \\phi(x_1)^T \\\\ \\phi(x_2)^T \\\\ \\vdots \\\\ \\phi(x_N)^T \\end{array}\\right]  = \\left[\\begin{array}{ccccc}\n",
    "1 & x_{1} & x_{1}^{2} & \\cdots & x_{1}^{M}\\\\\n",
    "1 & x_{2} & x_{2}^{2} & \\cdots & x_{2}^{M}\\\\\n",
    "\\vdots & \\vdots & \\vdots & \\ddots & \\vdots\\\\\n",
    "1 & x_{N} & x_{N}^{2} & \\cdots & x_{N}^{M}\n",
    "\\end{array}\\right] \\in \\mathbb{R}^{N\\times (M+1)}$$"
   ]
  },
  {
   "cell_type": "markdown",
   "metadata": {},
   "source": [
    "* In mathematics, the polynomial feature representation that we have used is called a **polynomial basis function** and is a basis of a polynomial ring."
   ]
  },
  {
   "cell_type": "markdown",
   "metadata": {},
   "source": [
    "* We can also implement the **Linear Regression** model using other feature representations, also called **basis functions** $\\phi(\\mathbf{x})$. \n",
    "\n",
    "    * **Assumption:** we are assuming that true *unknown* function $f(x)$ can be modeled by at least one of the functions $\\phi(\\mathbf{x})$ that can be represented by a linear combination of the basis functions, i.e., by one function in the function class under consideration.\n",
    "    \n",
    "    * If we include **too few** basis functions or unsuitable basis functions, we might not be able to model the true dependency. Similarly to polynomial features, the more we added, the better fit we have to out training data.\n",
    "    \n",
    "    * If we include **too many** basis functions, we need many data points to fit all the unknown parameters.\n",
    "        * There are special function space (Reproducing Kernel Hilbert Space or RKHS) where we can have an *infinite* number of basis functions (called kernels) and still have good generalization.\n",
    "    \n",
    "    * What we control? Which basis functions to use, how many to use, and any other parameters they have."
   ]
  },
  {
   "cell_type": "markdown",
   "metadata": {},
   "source": [
    "Some examples include:\n",
    "\n",
    "1. **Radial Basis Functions**\n",
    "\n",
    "Another class of basis functions are radial basis functions (RBF). Typical representatives are Gaussian basis functions:\n",
    "\n",
    "$$\\phi_j(x) = \\exp\\left\\{-\\frac{(x-\\mu_j)^2)}{2s_j^2}\\right\\}$$"
   ]
  },
  {
   "cell_type": "code",
   "execution_count": null,
   "metadata": {},
   "outputs": [],
   "source": []
  },
  {
   "cell_type": "code",
   "execution_count": null,
   "metadata": {},
   "outputs": [],
   "source": [
    "M = 10\n",
    "m = [0,0.1,0.2,0.3,0.4,0.5,0.6,0.7,0.8,0.9]\n",
    "s = [0.05]*10\n",
    "\n",
    "fig = plt.figure(figsize=(10,8))\n",
    "plt.plot(x1,t1,'bo', label='Training Data')\n",
    "plt.plot(x2,t2,'g',linewidth=5, label = 'True Function')\n",
    "for i in range(M):\n",
    "    plt.plot(x1, RBF(x1,m[i],s[i]));"
   ]
  },
  {
   "cell_type": "markdown",
   "metadata": {},
   "source": [
    "Given these basis functions, we need to:\n",
    "1. compute the weight value that each one has in representing the underlying function $f(x)$\n",
    "2. estimate the parameters of each basis function, in particular, the mean $\\mu$ and standard deviation $\\sigma$ for each Gaussian function.\n",
    "\n",
    "We will see exactly how to do this when we study **Gaussian Mixture Models (GMMs)**, but we are not quite ready yet..."
   ]
  },
  {
   "cell_type": "markdown",
   "metadata": {},
   "source": [
    "2. **Fourier Basis functions**\n",
    "\n",
    "3. **Wavelet Basis functions**\n",
    "\n",
    "4. and many others"
   ]
  },
  {
   "cell_type": "markdown",
   "metadata": {},
   "source": [
    "## The Bias-Variance Trade-Off"
   ]
  },
  {
   "cell_type": "markdown",
   "metadata": {},
   "source": [
    "Regardless of the form and number of the basis functions, we still face the problem of **overfitting**. In fact, this is true for any ML model.\n",
    "\n",
    "The problem of searching for *optimal* model complexity has been extensively studied; in fact, we are *simply* searching for a level of complexity that fits the data *well* yet *not too well*. This phenomenon can be summarized by the **bias-variance trade-off** of complexity."
   ]
  },
  {
   "cell_type": "markdown",
   "metadata": {},
   "source": [
    "<div class=\"alert alert-info\">\n",
    "    <b>The Bias-Variance Trade-Off</b> \n",
    "\n",
    "The bias-variance trade-off is a way of analyzing a learning algorithm's expected generalization error with respect to a particular problem as a sum of three terms, the bias, variance, and a quantity called the irreducible error, resulting from noise in the problem itself.\n",
    "</div>"
   ]
  },
  {
   "cell_type": "code",
   "execution_count": 4,
   "metadata": {},
   "outputs": [
    {
     "data": {
      "image/png": "[encoded data removed]",
      "text/plain": [
       "<IPython.core.display.Image object>"
      ]
     },
     "execution_count": 4,
     "metadata": {
      "image/png": {
       "width": 800
      }
     },
     "output_type": "execute_result"
    }
   ],
   "source": [
    "Image('figures/BiasvsVariance.png',width=800)"
   ]
  },
  {
   "cell_type": "markdown",
   "metadata": {},
   "source": [
    "Consider the cost function:\n",
    "\n",
    "$$J(\\mathbf{x},\\mathbf{w}) = \\frac{1}{N} \\Vert \\mathbf{t} - \\mathbf{y}\\Vert_2^2$$\n",
    "\n",
    "where $\\mathbf{y} = \\sum_{j=0}^{M} w_j\\phi_j(\\mathbf{x})$\n",
    "\n",
    "We can model each $J$ as a random variable, and so its expected value, over some data set $D$, is given by:\n",
    "\n",
    "\\begin{align}\n",
    "E\\left[J(\\mathbf{x},\\mathbf{w})\\right] &= E\\left[\\frac{1}{N} \\Vert \\mathbf{t} - \\mathbf{y}\\Vert_2^2\\right] \\\\\n",
    "&=E\\left[(\\mathbf{t} - \\mathbf{y})^2\\right]\n",
    "\\end{align}"
   ]
  },
  {
   "cell_type": "markdown",
   "metadata": {},
   "source": [
    "where $\\mathbf{y}$ is the model and $\\mathbf{t}$ is the desired response. For the experimental design section, we learned that this quantity dependent on the particular data set $D$. And so, we can take its average over the ensemble of data sets. If we add and subtract the quantity $E_D[\\mathbf{y}]$.\n",
    "\n",
    "* In practice we really only have access to $E_D[\\mathbf{y}]$\n",
    "* But $\\mathbf{y}$ here, is simply representing the model *if* we had an *infinite* amount of data and could effectively represent it."
   ]
  },
  {
   "cell_type": "markdown",
   "metadata": {},
   "source": [
    "\\begin{align}\n",
    "E\\left[(\\mathbf{t} - \\mathbf{y})^2\\right] &= E\\left[(\\mathbf{t} - E_D[\\mathbf{y}] + E_D[\\mathbf{y}] - \\mathbf{y})^2\\right]\\\\\n",
    "&= E\\left[(\\mathbf{t} - E_D[\\mathbf{y}])^2\\right] + E\\left[(E_D[\\mathbf{y}] - \\mathbf{y})^2\\right] + E\\left[2(\\mathbf{t} - E_D[\\mathbf{y}])(E_D[\\mathbf{y}] - \\mathbf{y})\\right]\\\\\n",
    "&= \\text{variance } +  \\text{bias } +  \\text{irreducible error} \n",
    "\\end{align}"
   ]
  },
  {
   "cell_type": "code",
   "execution_count": null,
   "metadata": {},
   "outputs": [],
   "source": []
  }
 ],
 "metadata": {
  "kernelspec": {
   "display_name": "Python 3",
   "language": "python",
   "name": "python3"
  },
  "language_info": {
   "codemirror_mode": {
    "name": "ipython",
    "version": 3
   },
   "file_extension": ".py",
   "mimetype": "text/x-python",
   "name": "python",
   "nbconvert_exporter": "python",
   "pygments_lexer": "ipython3",
   "version": "3.7.7"
  },
  "latex_envs": {
   "LaTeX_envs_menu_present": true,
   "autoclose": false,
   "autocomplete": true,
   "bibliofile": "biblio.bib",
   "cite_by": "apalike",
   "current_citInitial": 1,
   "eqLabelWithNumbers": true,
   "eqNumInitial": 1,
   "hotkeys": {
    "equation": "Ctrl-E",
    "itemize": "Ctrl-I"
   },
   "labels_anchors": false,
   "latex_user_defs": false,
   "report_style_numbering": false,
   "user_envs_cfg": false
  },
  "varInspector": {
   "cols": {
    "lenName": 16,
    "lenType": 16,
    "lenVar": 40
   },
   "kernels_config": {
    "python": {
     "delete_cmd_postfix": "",
     "delete_cmd_prefix": "del ",
     "library": "var_list.py",
     "varRefreshCmd": "print(var_dic_list())"
    },
    "r": {
     "delete_cmd_postfix": ") ",
     "delete_cmd_prefix": "rm(",
     "library": "var_list.r",
     "varRefreshCmd": "cat(var_dic_list()) "
    }
   },
   "types_to_exclude": [
    "module",
    "function",
    "builtin_function_or_method",
    "instance",
    "_Feature"
   ],
   "window_display": false
  }
 },
 "nbformat": 4,
 "nbformat_minor": 4
}
