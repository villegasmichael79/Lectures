{
 "cells": [
  {
   "cell_type": "markdown",
   "metadata": {},
   "source": [
    "# Final Project - Data Collection"
   ]
  },
  {
   "cell_type": "markdown",
   "metadata": {},
   "source": [
    "This is a **project group assignment**. No more than 4 individuals.\n",
    "\n",
    "**Due: Wednesday, October 21 @ 11:59 PM**"
   ]
  },
  {
   "cell_type": "markdown",
   "metadata": {},
   "source": [
    "# Problem 1\n",
    "\n",
    "Create a final project group with no more than 4 individuals.\n",
    "\n",
    "1. Create your Group Team on GitHub by following this link: https://classroom.github.com/g/J5VxKG0U\n",
    "    * Only 1 person per team should create a GitHub Team, and the other members will join the team\n",
    "    * Select a name for your team. This will be used throughout the semester and to announce contest winners.\n",
    "\n",
    "2. Create your Group Team on Canvas - use the same Team Name -, this will be helpful for grading your group assignments.\n",
    "    * Once again, only 1 member should create the Canvas group, the other team members will later should the group.\n",
    "    * In your group Canvas, you can upload files to share with your team members, this may include the .wav files. (This [FAQs list](https://elearning.ufl.edu/e-learning-basics/uf-e-learning-faqs/) may be helpful.)\n",
    "\n",
    "**I encourage you to use Zoom Conference meetings to meet regularly with your team members. You can create Zoom meetings using your UFL account: https://ufl.zoom.us/.**"
   ]
  },
  {
   "cell_type": "markdown",
   "metadata": {},
   "source": [
    "# Problem 2\n",
    "\n",
    "## 2.1 Instructions\n",
    "Each group will collect part of the training dataset. In order to collect the data, you will read a sentence out loud in a particular *emotional tone*. You will record this reading using the [Voice Recorder App](https://play.google.com/store/apps/details?id=com.media.bestrecorder.audiorecorder&hl=en_US]) using the following settings:\n",
    "\n",
    "* **Microphone Adjustment:** Device auto control\n",
    "* **Record file type:** .wav\n",
    "* **Recording Quality:** Mono - 44kHz\n",
    "* **Default File Name:** see the instructions below\n",
    "* **Duration:** Trim all your voice recordings to have 2 seconds duration exactly (this is important!). If speech is cut-off, re-record your trial (also crucially important!).\n",
    "\n",
    "The **emotion labels** are: \n",
    "* 1- neutral\n",
    "* 2 - calm\n",
    "* 3 - happy\n",
    "* 4 - sad\n",
    "* 5 - angry\n",
    "* 6 - fearful\n",
    "* 7 - disgust\n",
    "* 8 - surprise\n",
    "\n",
    "The speech statements you should read are: \n",
    "* 1 - \"Kids are talking by the door\"\n",
    "* 2 - \"Dogs are sitting by the door\"\n",
    "\n",
    "Each student should record **5 trials** of each statement for each emotional label, giving a total of 80 recordings. So, for a group with 4 members, there should be a total of 320 recordings.\n",
    "\n",
    "I recommend you to save your files using a **coding system**, e.g. **ID-trial-statement-label**.\n",
    "\n",
    "* First give a number from 1 to 4 to each team member, this is the ID. Then, for example, when team member with ID 4 is recording hers/his 5th recording trial of the statement (2) \"Dogs sitting by the door\" in a happy tone (emotional label 3), the file name should read \"4-5-2-3.wav\".\n",
    "\n",
    "* You can find examples of actors emoting these statements in this YouTube video: https://www.youtube.com/watch?v=Y7OQoNEu3dY\n",
    "\n",
    "Create a shared folder (you have access to Google Drive with your UFL account) where you will place all the recordings. Once completed, everyone can download this folder and have a local copy of the group's data."
   ]
  },
  {
   "cell_type": "markdown",
   "metadata": {},
   "source": [
    "## 2.2 Install library ```librosa```\n",
    "\n",
    "Follow instructions here: https://pypi.org/project/librosa/"
   ]
  },
  {
   "cell_type": "markdown",
   "metadata": {},
   "source": [
    "## 2.3 Create your Data for Submission\n",
    "\n",
    "Create a dictionary with your .wav recordings as well as target label array and statement label array.\n",
    "\n",
    "Before you start, change the ```mydir``` variable below to the folder directory with your .wav recordings."
   ]
  },
  {
   "cell_type": "code",
   "execution_count": null,
   "metadata": {},
   "outputs": [],
   "source": [
    "import numpy as np\n",
    "import os\n",
    "import librosa\n",
    "import pickle\n",
    "from IPython.display import display, Audio\n",
    "\n",
    "# Folder where all recordings are located\n",
    "# mydir = 'change-this-to-your-data-directory-local-path'\n",
    "mydir = 'C:/Users/catia/Dropbox (UFL)/Teaching/2020 Fall/EEE 4773 Fundamentals of Machine Learning/GitHub/Final Project'"
   ]
  },
  {
   "cell_type": "markdown",
   "metadata": {},
   "source": [
    "Now, there are two options to create your data:\n",
    "\n",
    "### Option 1\n",
    "\n",
    "Use the code below to play one file at a time, and manually label each recording.\n",
    "\n",
    "This code will output and save the data files in the desired format for assignment submission."
   ]
  },
  {
   "cell_type": "code",
   "execution_count": null,
   "metadata": {},
   "outputs": [],
   "source": [
    "labels = np.array([])\n",
    "data = {}\n",
    "statements = np.array([])\n",
    "i=0\n",
    "for file in os.listdir(mydir):\n",
    "    if file.endswith(\".wav\"): # Will only read .wav files\n",
    "        filename = mydir+'/'+file\n",
    "        \n",
    "        y, sr = librosa.load(filename, sr=44000)\n",
    "        data[i] = y\n",
    "        display(Audio(filename, rate=44000, autoplay=True)) # load a local WAV file\n",
    "        l = input('Type the emotion label (1,2,3,4,5,6,7,8) in this recording and then press Enter...\\n')\n",
    "        labels = np.hstack((labels, l))\n",
    "        s = input('Type the sentence (1 or 2) being read in this recording and then press Enter...\\n')\n",
    "        statements = np.hstack((statements,s))\n",
    "        i+=1\n",
    "\n",
    "print('-------------------------------------------------------')\n",
    "print('----------------------DONE-----------------------------')\n",
    "print('-------------------------------------------------------')\n",
    "if np.sum(labels=='')>0:\n",
    "    print('ATTENTION, ',np.sum(labels==''), ' LABEL/S IS/ARE MISSING')\n",
    "    \n",
    "if np.sum(statements=='')>0:\n",
    "    print('ATTENTION, ',np.sum(statements==''), ' STATEMENT/S IS/ARE MISSING')\n",
    "    \n",
    "print('There are ', len(data),' recordings')\n",
    "print('There are ', len(labels[labels!='']),' labels')\n",
    "print('There are ', len(statements[statements!='']),' statement recordings')\n",
    "\n",
    "# Saves the files to your current directory\n",
    "f = open(\"data.pkl\",\"wb\")\n",
    "pickle.dump(data,f)\n",
    "f.close()\n",
    "np.save('labels', labels)\n",
    "np.save('statements', labels)"
   ]
  },
  {
   "cell_type": "markdown",
   "metadata": {},
   "source": [
    "### Option 2\n",
    "\n",
    "Use the **coding system** from data collection to automatically create and save your data.\n",
    "\n",
    "The code below will help you with that, and it will output and save the data files in the desired format for assignment submission."
   ]
  },
  {
   "cell_type": "code",
   "execution_count": null,
   "metadata": {},
   "outputs": [],
   "source": [
    "labels = np.array([])\n",
    "data = {}\n",
    "statements = np.array([])\n",
    "i=0\n",
    "for file in os.listdir(mydir):\n",
    "    if file.endswith(\".wav\"): # Will only read .wav files\n",
    "        filewav = file\n",
    "        filename = mydir+'/'+file\n",
    "        y, sr = librosa.load(filename, sr=44000)\n",
    "        data[i] = y\n",
    "        labels = np.hstack((labels, int(filewav[4])))\n",
    "        statements = np.hstack((statements,int(filewav[6])))\n",
    "        i+=1\n",
    "\n",
    "print('-------------------------------------------------------')\n",
    "print('----------------------DONE-----------------------------')\n",
    "print('-------------------------------------------------------')\n",
    "\n",
    "# Saves the files to your current directory\n",
    "f = open(\"data.pkl\",\"wb\")\n",
    "pickle.dump(data,f)\n",
    "f.close()\n",
    "np.save('labels', labels)\n",
    "np.save('statements', labels)"
   ]
  },
  {
   "cell_type": "markdown",
   "metadata": {},
   "source": [
    "## 2.4 Gather All Files for Submission\n",
    "\n",
    "To receive full credit in this question, you should submit to Canvas:\n",
    "\n",
    "1. Compressed folder (.zip) with the recordings from all team members. (80 recordings per student should be included.)\n",
    "2. File \"data.pkl\"\n",
    "3. File \"labels.npy\"\n",
    "4. File \"statements.npy\""
   ]
  },
  {
   "cell_type": "markdown",
   "metadata": {},
   "source": [
    "## Submit your Solution\n",
    "\n",
    "Confirm that you've successfully completed the assignment.\n",
    "\n",
    "```add``` and ```commit``` the final version of your work, and ```push``` your code/data to your GitHub repository -- **you may run into memory issues. If this happens, disregard this step and only submit the data files to Canvas**\n",
    "\n",
    "Submit the URL of your GitHub Repository along with all data as your assignment submission on Canvas."
   ]
  },
  {
   "cell_type": "code",
   "execution_count": null,
   "metadata": {},
   "outputs": [],
   "source": []
  }
 ],
 "metadata": {
  "kernelspec": {
   "display_name": "Python 3",
   "language": "python",
   "name": "python3"
  },
  "language_info": {
   "codemirror_mode": {
    "name": "ipython",
    "version": 3
   },
   "file_extension": ".py",
   "mimetype": "text/x-python",
   "name": "python",
   "nbconvert_exporter": "python",
   "pygments_lexer": "ipython3",
   "version": "3.7.7"
  },
  "latex_envs": {
   "LaTeX_envs_menu_present": true,
   "autoclose": false,
   "autocomplete": true,
   "bibliofile": "biblio.bib",
   "cite_by": "apalike",
   "current_citInitial": 1,
   "eqLabelWithNumbers": true,
   "eqNumInitial": 1,
   "hotkeys": {
    "equation": "Ctrl-E",
    "itemize": "Ctrl-I"
   },
   "labels_anchors": false,
   "latex_user_defs": false,
   "report_style_numbering": false,
   "user_envs_cfg": false
  },
  "varInspector": {
   "cols": {
    "lenName": 16,
    "lenType": 16,
    "lenVar": 40
   },
   "kernels_config": {
    "python": {
     "delete_cmd_postfix": "",
     "delete_cmd_prefix": "del ",
     "library": "var_list.py",
     "varRefreshCmd": "print(var_dic_list())"
    },
    "r": {
     "delete_cmd_postfix": ") ",
     "delete_cmd_prefix": "rm(",
     "library": "var_list.r",
     "varRefreshCmd": "cat(var_dic_list()) "
    }
   },
   "types_to_exclude": [
    "module",
    "function",
    "builtin_function_or_method",
    "instance",
    "_Feature"
   ],
   "window_display": false
  }
 },
 "nbformat": 4,
 "nbformat_minor": 4
}
